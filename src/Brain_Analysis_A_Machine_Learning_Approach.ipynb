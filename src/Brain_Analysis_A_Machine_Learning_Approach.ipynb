{
  "nbformat": 4,
  "nbformat_minor": 0,
  "metadata": {
    "colab": {
      "name": "Brain Analysis - A Machine Learning Approach",
      "provenance": [],
      "toc_visible": true
    },
    "kernelspec": {
      "name": "python3",
      "display_name": "Python 3"
    },
    "language_info": {
      "name": "python"
    }
  },
  "cells": [
    {
      "cell_type": "markdown",
      "metadata": {
        "id": "vvkkrRM3aF_e"
      },
      "source": [
        "![picture](https://drive.google.com/uc?export=view&id=1s7sR9mOzFjeLpmH7gldgXAz7BQ6hM6jb)\n"
      ]
    },
    {
      "cell_type": "markdown",
      "metadata": {
        "id": "34YjxkiWXlzh"
      },
      "source": [
        "# **Brain Analysis - A Machine Learning Approach**"
      ]
    },
    {
      "cell_type": "markdown",
      "metadata": {
        "id": "4G8DK86A4T-I"
      },
      "source": [
        "### Our dataset contains information about the human brain.\n",
        "### In this example we'll try to find out the relashionship between the head size and the brain weight. \n",
        "### First of all, let's import our dataset"
      ]
    },
    {
      "cell_type": "code",
      "metadata": {
        "colab": {
          "base_uri": "https://localhost:8080/",
          "height": 215
        },
        "id": "WPkxwXmeZXuO",
        "outputId": "0eaa1fc5-8919-4590-e73d-b093f4c88ddc"
      },
      "source": [
        "import pandas as pd\n",
        "data = pd.read_csv('/content/valeria_data/headbrain.csv')\n",
        "print(data.shape)\n",
        "data.head()"
      ],
      "execution_count": 28,
      "outputs": [
        {
          "output_type": "stream",
          "text": [
            "(237, 4)\n"
          ],
          "name": "stdout"
        },
        {
          "output_type": "execute_result",
          "data": {
            "text/html": [
              "<div>\n",
              "<style scoped>\n",
              "    .dataframe tbody tr th:only-of-type {\n",
              "        vertical-align: middle;\n",
              "    }\n",
              "\n",
              "    .dataframe tbody tr th {\n",
              "        vertical-align: top;\n",
              "    }\n",
              "\n",
              "    .dataframe thead th {\n",
              "        text-align: right;\n",
              "    }\n",
              "</style>\n",
              "<table border=\"1\" class=\"dataframe\">\n",
              "  <thead>\n",
              "    <tr style=\"text-align: right;\">\n",
              "      <th></th>\n",
              "      <th>Gender</th>\n",
              "      <th>Age Range</th>\n",
              "      <th>Head Size(cm^3)</th>\n",
              "      <th>Brain Weight(grams)</th>\n",
              "    </tr>\n",
              "  </thead>\n",
              "  <tbody>\n",
              "    <tr>\n",
              "      <th>0</th>\n",
              "      <td>1</td>\n",
              "      <td>1</td>\n",
              "      <td>4512</td>\n",
              "      <td>1530</td>\n",
              "    </tr>\n",
              "    <tr>\n",
              "      <th>1</th>\n",
              "      <td>1</td>\n",
              "      <td>1</td>\n",
              "      <td>3738</td>\n",
              "      <td>1297</td>\n",
              "    </tr>\n",
              "    <tr>\n",
              "      <th>2</th>\n",
              "      <td>1</td>\n",
              "      <td>1</td>\n",
              "      <td>4261</td>\n",
              "      <td>1335</td>\n",
              "    </tr>\n",
              "    <tr>\n",
              "      <th>3</th>\n",
              "      <td>1</td>\n",
              "      <td>1</td>\n",
              "      <td>3777</td>\n",
              "      <td>1282</td>\n",
              "    </tr>\n",
              "    <tr>\n",
              "      <th>4</th>\n",
              "      <td>1</td>\n",
              "      <td>1</td>\n",
              "      <td>4177</td>\n",
              "      <td>1590</td>\n",
              "    </tr>\n",
              "  </tbody>\n",
              "</table>\n",
              "</div>"
            ],
            "text/plain": [
              "   Gender  Age Range  Head Size(cm^3)  Brain Weight(grams)\n",
              "0       1          1             4512                 1530\n",
              "1       1          1             3738                 1297\n",
              "2       1          1             4261                 1335\n",
              "3       1          1             3777                 1282\n",
              "4       1          1             4177                 1590"
            ]
          },
          "metadata": {
            "tags": []
          },
          "execution_count": 28
        }
      ]
    },
    {
      "cell_type": "markdown",
      "metadata": {
        "id": "uA44pzbpevw4"
      },
      "source": [
        "### Any missing values ? Let's check"
      ]
    },
    {
      "cell_type": "code",
      "metadata": {
        "colab": {
          "base_uri": "https://localhost:8080/"
        },
        "id": "nCPXBx0ne1Jz",
        "outputId": "59108016-d674-4de6-a383-1221ba872699"
      },
      "source": [
        "data.isnull().sum().sort_values(ascending=False)"
      ],
      "execution_count": 29,
      "outputs": [
        {
          "output_type": "execute_result",
          "data": {
            "text/plain": [
              "Brain Weight(grams)    0\n",
              "Head Size(cm^3)        0\n",
              "Age Range              0\n",
              "Gender                 0\n",
              "dtype: int64"
            ]
          },
          "metadata": {
            "tags": []
          },
          "execution_count": 29
        }
      ]
    },
    {
      "cell_type": "markdown",
      "metadata": {
        "id": "8A0kJjpY3QKU"
      },
      "source": [
        "### Extracting the x and y values"
      ]
    },
    {
      "cell_type": "code",
      "metadata": {
        "id": "JPjmxpn6Z2dp"
      },
      "source": [
        "x = data['Head Size(cm^3)'].values\n",
        "y = data['Brain Weight(grams)'].values"
      ],
      "execution_count": 30,
      "outputs": []
    },
    {
      "cell_type": "markdown",
      "metadata": {
        "id": "7D8m1xmnzyMz"
      },
      "source": [
        "### Plotting our dataset"
      ]
    },
    {
      "cell_type": "code",
      "metadata": {
        "colab": {
          "base_uri": "https://localhost:8080/",
          "height": 278
        },
        "id": "fKcdb83Lchb2",
        "outputId": "013074db-592b-4181-e424-7af36fe34def"
      },
      "source": [
        "import matplotlib.pyplot as plt\n",
        "plt.scatter(x, y)\n",
        "plt.xlabel(\"Head Size (cm^3)\")\n",
        "plt.ylabel(\"Brain Weight (grams)\")\n",
        "plt.show()"
      ],
      "execution_count": 31,
      "outputs": [
        {
          "output_type": "display_data",
          "data": {
            "image/png": "[encoded data removed]",
            "text/plain": [
              "<Figure size 432x288 with 1 Axes>"
            ]
          },
          "metadata": {
            "tags": [],
            "needs_background": "light"
          }
        }
      ]
    },
    {
      "cell_type": "markdown",
      "metadata": {
        "id": "9TDPsLWEZkk8"
      },
      "source": [
        "### Usign a **Linear Regression** approach, we identify:\n",
        "###    - the Head Size as our indipendent variable x \n",
        "###    - the Brain Weight as our dependent variable y.\n",
        "\n",
        "### For our purpose, we'll use the **scikit-learn** library.\n",
        "##### In order to use the model, we have to reshape the x array because the function expects a 2-dimensional array\n",
        "\n"
      ]
    },
    {
      "cell_type": "code",
      "metadata": {
        "id": "B_gl31TQcEFJ"
      },
      "source": [
        "import numpy as np\n",
        "from sklearn.linear_model import LinearRegression\n",
        "x_new = x.reshape(-1,1)\n",
        "model = LinearRegression().fit(x_new,y)"
      ],
      "execution_count": 32,
      "outputs": []
    },
    {
      "cell_type": "markdown",
      "metadata": {
        "id": "rMS4u-Ed0InG"
      },
      "source": [
        "### The line that best fits our observed data is **y = m x + c**\n",
        "### Here we can find the **coefficient m** and the **intercept c** of our line."
      ]
    },
    {
      "cell_type": "code",
      "metadata": {
        "colab": {
          "base_uri": "https://localhost:8080/"
        },
        "id": "4dNv14tJQVxQ",
        "outputId": "fc002604-a2a5-4f28-b62c-824811d4f6be"
      },
      "source": [
        "print(\"coef m: \" + str(model.coef_[0]))\n",
        "print(\"intercept c: \" + str(model.intercept_))"
      ],
      "execution_count": 33,
      "outputs": [
        {
          "output_type": "stream",
          "text": [
            "coef m: 0.26342933948939934\n",
            "intercept c: 325.5734210494426\n"
          ],
          "name": "stdout"
        }
      ]
    },
    {
      "cell_type": "markdown",
      "metadata": {
        "id": "UGL6132BYvnT"
      },
      "source": [
        "### Let's plot the observed data and the predicted line"
      ]
    },
    {
      "cell_type": "code",
      "metadata": {
        "colab": {
          "base_uri": "https://localhost:8080/",
          "height": 296
        },
        "id": "PBGcJCQ1Y3k0",
        "outputId": "d5b67f28-a69c-49fc-d96b-f509958780d6"
      },
      "source": [
        "x_line = np.array([2000,5000])\n",
        "y_line = model.coef_[0] * x_line + model.intercept_\n",
        "plt.plot(x_line, y_line, '-r')\n",
        "plt.scatter(x, y)\n",
        "plt.legend(['Predicted line','Observed data'])\n",
        "plt.xlabel(\"Head Size (cm^3)\")\n",
        "plt.ylabel(\"Brain Weight (grams)\")"
      ],
      "execution_count": 34,
      "outputs": [
        {
          "output_type": "execute_result",
          "data": {
            "text/plain": [
              "Text(0, 0.5, 'Brain Weight (grams)')"
            ]
          },
          "metadata": {
            "tags": []
          },
          "execution_count": 34
        },
        {
          "output_type": "display_data",
          "data": {
            "image/png": "[encoded data removed]",
            "text/plain": [
              "<Figure size 432x288 with 1 Axes>"
            ]
          },
          "metadata": {
            "tags": [],
            "needs_background": "light"
          }
        }
      ]
    },
    {
      "cell_type": "markdown",
      "metadata": {
        "id": "N4OizSn4N475"
      },
      "source": [
        "### Now we can check some metrics to see if the model works well.\n",
        "### 1. The coefficient of determination **R2 Score**\n",
        "### 2. The standard deviation of residuals or **RMSE** (Root mean square error)"
      ]
    },
    {
      "cell_type": "code",
      "metadata": {
        "colab": {
          "base_uri": "https://localhost:8080/"
        },
        "id": "SY6mDbu1OwQQ",
        "outputId": "7ee1c074-d657-4961-dcf9-45f7fb5c32b1"
      },
      "source": [
        "r_sq = model.score(x_new,y)\n",
        "print(\"R square: \" + str(r_sq))"
      ],
      "execution_count": 35,
      "outputs": [
        {
          "output_type": "stream",
          "text": [
            "R square: 0.639311719957\n"
          ],
          "name": "stdout"
        }
      ]
    },
    {
      "cell_type": "code",
      "metadata": {
        "colab": {
          "base_uri": "https://localhost:8080/"
        },
        "id": "G71rXpOu9ixY",
        "outputId": "e0743d57-e01c-4d70-d013-8043d3ba7215"
      },
      "source": [
        "import numpy as np\n",
        "from sklearn.metrics import mean_squared_error\n",
        "y_pred = model.predict(x_new)\n",
        "mse = mean_squared_error(y, y_pred)\n",
        "rmse = np.sqrt(mse)\n",
        "print(\"RMSE: \" + str(rmse))"
      ],
      "execution_count": 36,
      "outputs": [
        {
          "output_type": "stream",
          "text": [
            "RMSE: 72.1206213783709\n"
          ],
          "name": "stdout"
        }
      ]
    },
    {
      "cell_type": "markdown",
      "metadata": {
        "id": "7C5i2b1ByAeu"
      },
      "source": [
        "### Using our model, we can make some prediction of new x values"
      ]
    },
    {
      "cell_type": "code",
      "metadata": {
        "colab": {
          "base_uri": "https://localhost:8080/"
        },
        "id": "w37ESSELyDTX",
        "outputId": "663ffcdf-5dbf-4c47-b9fa-f50f593e13b2"
      },
      "source": [
        "x_to_predict = [[3752]]\n",
        "predicted_y = model.predict(x_to_predict)\n",
        "print(predicted_y)"
      ],
      "execution_count": 37,
      "outputs": [
        {
          "output_type": "stream",
          "text": [
            "[1313.96030281]\n"
          ],
          "name": "stdout"
        }
      ]
    }
  ]
}